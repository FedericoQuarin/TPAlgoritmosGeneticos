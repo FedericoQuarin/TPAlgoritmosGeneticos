{
 "cells": [
  {
   "cell_type": "markdown",
   "metadata": {},
   "source": [
    "### Definicion del problema\n",
    "\n",
    "Problema de la coloración mínima: suponga que tiene una paleta de 36 colores y\n",
    "quiere colorear un mapa de la República Argentina\n",
    "formado por 23 provincias. La restricción que se impuso\n",
    "es que dos provincias adyacentes no pueden tener el\n",
    "mismo color. Encuentre la cantidad mínima de colores\n",
    "que debe usarse para poder cumplir con la restricción.\n"
   ]
  },
  {
   "cell_type": "code",
   "execution_count": 1,
   "metadata": {},
   "outputs": [],
   "source": [
    "import pandas as pd\n",
    "import numpy as np\n",
    "import pygad\n",
    "import cartopy.crs as ccrs\n",
    "import matplotlib.pyplot as plt\n",
    "from cartopy.io.shapereader import Reader as sf\n",
    "from cartopy.feature import ShapelyFeature as cfeature"
   ]
  },
  {
   "cell_type": "code",
   "execution_count": 2,
   "metadata": {},
   "outputs": [],
   "source": [
    "class Provincia:\n",
    "    def __init__(self, id, nombre, color, provincias_adyacentes=[]):\n",
    "        self.id = id\n",
    "        self.nombre = nombre\n",
    "        self.color = color\n",
    "        self.provincias_adyacentes = provincias_adyacentes\n",
    "\n",
    "    def __str__(self):\n",
    "        return f\"Provincia ID: {str(self.id)}, Nombre: {self.nombre}, Color:{self.color}, Provincias Adyacentes: {','.join(str(v) for v in self.provincias_adyacentes)}\""
   ]
  },
  {
   "cell_type": "code",
   "execution_count": 3,
   "metadata": {},
   "outputs": [
    {
     "data": {
      "text/plain": [
       "0                 Neuquen\n",
       "1                San Luis\n",
       "2                Santa Fe\n",
       "3                La Rioja\n",
       "4               Catamarca\n",
       "5                 Tucuman\n",
       "6                   Chaco\n",
       "7                 Formosa\n",
       "8              Santa Cruz\n",
       "9                  Chubut\n",
       "10                Mendoza\n",
       "11             Entre Rios\n",
       "12               San Juan\n",
       "13                  Jujuy\n",
       "14    Santiago del Estero\n",
       "15              Rio Negro\n",
       "16             Corrientes\n",
       "17               Misiones\n",
       "18                  Salta\n",
       "19                Cordoba\n",
       "20           Buenos Aires\n",
       "21               La Pampa\n",
       "22       Tierra del Fuego\n",
       "dtype: object"
      ]
     },
     "execution_count": 3,
     "metadata": {},
     "output_type": "execute_result"
    }
   ],
   "source": [
    "provincias = [\n",
    "    'Neuquen', 'San Luis', 'Santa Fe', 'La Rioja', 'Catamarca',\n",
    "    'Tucuman', 'Chaco', 'Formosa', 'Santa Cruz', 'Chubut', 'Mendoza', 'Entre Rios', 'San Juan', \n",
    "    'Jujuy', 'Santiago del Estero', 'Rio Negro', 'Corrientes', 'Misiones', 'Salta', 'Cordoba', \n",
    "    'Buenos Aires', 'La Pampa', 'Tierra del Fuego'\n",
    "]\n",
    "\n",
    "provinciasSerie = pd.Series(provincias)\n",
    "\n",
    "provinciasSerie"
   ]
  },
  {
   "cell_type": "code",
   "execution_count": 4,
   "metadata": {},
   "outputs": [
    {
     "data": {
      "text/plain": [
       "Neuquen                            [10, 15, 21]\n",
       "San Luis                    [3, 10, 12, 19, 21]\n",
       "Santa Fe                [6, 11, 14, 16, 19, 20]\n",
       "La Rioja                         [1, 4, 12, 19]\n",
       "Catamarca                    [3, 5, 14, 18, 19]\n",
       "Tucuman                             [4, 14, 18]\n",
       "Chaco                        [2, 7, 14, 16, 18]\n",
       "Formosa                                 [6, 18]\n",
       "Santa Cruz                              [9, 22]\n",
       "Chubut                                  [8, 15]\n",
       "Mendoza                      [0, 1, 12, 15, 21]\n",
       "Entre Rios                          [2, 16, 20]\n",
       "San Juan                             [1, 3, 10]\n",
       "Jujuy                                      [18]\n",
       "Santiago del Estero        [2, 4, 5, 6, 18, 19]\n",
       "Rio Negro                    [0, 9, 10, 20, 21]\n",
       "Corrientes                       [2, 6, 11, 17]\n",
       "Misiones                                   [16]\n",
       "Salta                      [4, 5, 6, 7, 13, 14]\n",
       "Cordoba                [1, 2, 3, 4, 14, 20, 21]\n",
       "Buenos Aires                [2, 11, 15, 19, 21]\n",
       "La Pampa                 [0, 1, 10, 15, 19, 20]\n",
       "Tierra del Fuego                            [8]\n",
       "dtype: object"
      ]
     },
     "execution_count": 4,
     "metadata": {},
     "output_type": "execute_result"
    }
   ],
   "source": [
    "adyacentes = {\n",
    "    \"Neuquen\": [10, 15, 21],\n",
    "    \"San Luis\": [3, 10, 12, 19, 21],\n",
    "    \"Santa Fe\": [6, 11, 14, 16, 19, 20],\n",
    "    \"La Rioja\": [1, 4, 12, 19],\n",
    "    \"Catamarca\": [3, 5, 14, 18, 19],\n",
    "    \"Tucuman\": [4, 14, 18],\n",
    "    \"Chaco\": [2, 7, 14, 16, 18],\n",
    "    \"Formosa\": [6, 18],\n",
    "    \"Santa Cruz\": [9, 22],\n",
    "    \"Chubut\": [8, 15],\n",
    "    \"Mendoza\": [0, 1, 12, 15, 21],\n",
    "    \"Entre Rios\": [2, 16, 20],\n",
    "    \"San Juan\": [1, 3, 10],\n",
    "    \"Jujuy\": [18],\n",
    "    \"Santiago del Estero\": [2, 4, 5, 6, 18, 19],\n",
    "    \"Rio Negro\": [0, 9, 10, 20, 21],\n",
    "    \"Corrientes\": [2, 6, 11, 17],\n",
    "    \"Misiones\": [16],\n",
    "    \"Salta\": [4, 5, 6, 7, 13, 14],\n",
    "    \"Cordoba\": [1, 2, 3, 4, 14, 20, 21],\n",
    "    \"Buenos Aires\": [2, 11, 15, 19, 21],\n",
    "    \"La Pampa\": [0, 1, 10, 15, 19, 20],\n",
    "    \"Tierra del Fuego\": [8]\n",
    "}\n",
    "\n",
    "adyacentesSerie = pd.Series(adyacentes)\n",
    "\n",
    "adyacentesSerie"
   ]
  },
  {
   "cell_type": "code",
   "execution_count": 5,
   "metadata": {},
   "outputs": [],
   "source": [
    "colores = [\n",
    "    \"#FF0000\",  # Rojo\n",
    "    \"#00FF00\",  # Verde\n",
    "    \"#0000FF\",  # Azul\n",
    "    \"#FFFF00\",  # Amarillo\n",
    "    \"#00FFFF\",  # Cian\n",
    "    \"#FF00FF\",  # Magenta\n",
    "    \"#800000\",  # Rojo oscuro\n",
    "    \"#008000\",  # Verde oscuro\n",
    "    \"#000080\",  # Azul oscuro\n",
    "    \"#808000\",  # Amarillo oscuro\n",
    "    \"#008080\",  # Cian oscuro\n",
    "    \"#800080\",  # Magenta oscuro\n",
    "    \"#C0C0C0\",  # Gris claro\n",
    "    \"#808080\",  # Gris medio\n",
    "    \"#404040\",  # Gris oscuro\n",
    "    \"#FF8000\",  # Naranja\n",
    "    \"#80FF00\",  # Lima\n",
    "    \"#0080FF\",  # Azul claro\n",
    "    \"#FF0080\",  # Rosa\n",
    "    \"#8000FF\",  # Púrpura\n",
    "    \"#FF8080\",  # Rosa claro\n",
    "    \"#80FF80\",  # Verde claro\n",
    "    \"#8080FF\",  # Azul claro\n",
    "    \"#FFFF80\",  # Amarillo claro\n",
    "    \"#FF80FF\",  # Lila\n",
    "    \"#80FFFF\",  # Turquesa\n",
    "    \"#C00000\",  # Rojo oscuro 2\n",
    "    \"#00C000\",  # Verde oscuro 2\n",
    "    \"#0000C0\",  # Azul oscuro 2\n",
    "    \"#C0C000\",  # Amarillo oscuro 2\n",
    "    \"#00C0C0\",  # Cian oscuro 2\n",
    "    \"#C000C0\",  # Magenta oscuro 2\n",
    "    \"#FFC080\",  # Melocotón\n",
    "    \"#80FFC0\",  # Verde menta\n",
    "    \"#C080FF\"   # Lila claro\n",
    "]"
   ]
  },
  {
   "cell_type": "code",
   "execution_count": 6,
   "metadata": {},
   "outputs": [],
   "source": [
    "# Inicializar provincias\n",
    "# listaProvincias = []\n",
    "# for ix, provincia in enumerate(adyacentes):\n",
    "#     listaProvincias.append(Provincia(ix, provincia, colores[ix], adyacentes[provincia]))\n",
    "\n",
    "# for provincia in listaProvincias:\n",
    "#     print(provincia)\n"
   ]
  },
  {
   "cell_type": "code",
   "execution_count": 7,
   "metadata": {},
   "outputs": [],
   "source": [
    "def cant_adyacencias(solution):\n",
    "    cantidad_colores_iguales_adyacentes = 0\n",
    "    for i_provincia, color in enumerate(solution):\n",
    "        for provincia_adyacente in adyacentes[provincias[i_provincia]]:\n",
    "            # Ver si tengo una provincia adyacente que tiene mi mismo valor\n",
    "            if color == solution[provincia_adyacente]:\n",
    "                cantidad_colores_iguales_adyacentes += 1\n",
    "                \n",
    "    return cantidad_colores_iguales_adyacentes / 2\n",
    "\n",
    "def fitness_func(ga_instance, solution, solution_idx):\n",
    "    cantidad_colores_iguales_adyacentes = cant_adyacencias(solution)\n",
    "\n",
    "    colores_unicos = len(set(solution))\n",
    "\n",
    "    return 1 / (cantidad_colores_iguales_adyacentes*4 + colores_unicos)\n",
    "    "
   ]
  },
  {
   "cell_type": "code",
   "execution_count": 8,
   "metadata": {},
   "outputs": [],
   "source": [
    "fitness_function = fitness_func\n",
    "\n",
    "num_generations = 10000\n",
    "num_parents_mating = 8\n",
    "\n",
    "sol_per_pop = 16\n",
    "num_genes = len(provincias)\n",
    "\n",
    "init_range_low = 0\n",
    "init_range_high = 35\n",
    "\n",
    "parent_selection_type = \"sss\"\n",
    "keep_parents = 1\n",
    "keep_elitism = 2\n",
    "\n",
    "crossover_type = \"single_point\"\n",
    "crossover_probability = 0.9\n",
    "\n",
    "mutation_type = \"random\"\n",
    "mutation_percent_genes = 10\n",
    "mutation_probability = 0.3\n",
    "\n",
    "gene_type=np.int16"
   ]
  },
  {
   "cell_type": "code",
   "execution_count": 9,
   "metadata": {},
   "outputs": [],
   "source": [
    "ga_instance = pygad.GA(num_generations=num_generations,\n",
    "                       num_parents_mating=num_parents_mating,\n",
    "                       fitness_func=fitness_function,\n",
    "                       sol_per_pop=sol_per_pop,\n",
    "                       num_genes=num_genes,\n",
    "                       init_range_low=init_range_low,\n",
    "                       init_range_high=init_range_high,\n",
    "                       parent_selection_type=parent_selection_type,\n",
    "                       keep_parents=keep_parents,\n",
    "                       keep_elitism=keep_elitism,\n",
    "                       crossover_type=crossover_type,\n",
    "                       crossover_probability=crossover_probability,\n",
    "                       mutation_type=mutation_type,\n",
    "                       mutation_percent_genes=mutation_percent_genes,\n",
    "                       mutation_probability=mutation_probability,\n",
    "                       gene_type=gene_type)"
   ]
  },
  {
   "cell_type": "code",
   "execution_count": 10,
   "metadata": {},
   "outputs": [],
   "source": [
    "ga_instance.run()"
   ]
  },
  {
   "cell_type": "code",
   "execution_count": 11,
   "metadata": {},
   "outputs": [
    {
     "name": "stdout",
     "output_type": "stream",
     "text": [
      "Colores de la mejor solution : [9 4 3 1 0 2 0 1 0 9 1 1 0 0 1 2 2 0 9 2 0 3 1]\n",
      "Valor de fitness de la mejor solucion = 0.16666666666666666\n",
      "Cantidad de colores = 6\n",
      "Cantidad de adayacencias = 0.0\n"
     ]
    }
   ],
   "source": [
    "solution, solution_fitness, solution_idx = ga_instance.best_solution()\n",
    "print(\"Colores de la mejor solution : {solution}\".format(solution=solution))\n",
    "print(\"Valor de fitness de la mejor solucion = {solution_fitness}\".format(solution_fitness=solution_fitness))\n",
    "print(\"Cantidad de colores = {cantidad_colores}\".format(cantidad_colores=len(set(solution))))\n",
    "print(\"Cantidad de adayacencias = {cantidad_adayacencias}\".format(cantidad_adayacencias=cant_adyacencias(solution)))"
   ]
  },
  {
   "cell_type": "code",
   "execution_count": 12,
   "metadata": {},
   "outputs": [],
   "source": [
    "#El archivo shp lo pueden encontrar en la página del Instituto Geográfico Nacional (IGN)\n",
    "fname = 'provincia/provincia.shp'\n",
    "country = sf(fname)\n",
    "\n",
    "solution = np.insert(solution, 0, solution[20])\n",
    "coloresEnRGB = [colores[i] for i in solution]\n"
   ]
  },
  {
   "cell_type": "code",
   "execution_count": 13,
   "metadata": {},
   "outputs": [
    {
     "data": {
      "image/png": "[encoded data removed]",
      "text/plain": [
       "<Figure size 864x864 with 1 Axes>"
      ]
     },
     "metadata": {
      "needs_background": "light"
     },
     "output_type": "display_data"
    }
   ],
   "source": [
    "fig, ax = plt.subplots(1, 1, subplot_kw=dict(projection=ccrs.PlateCarree()), figsize=[12,12])\n",
    "\n",
    "for province, color in zip(country.records(), coloresEnRGB):\n",
    "    ax.add_geometries(province.geometry, crs=ccrs.PlateCarree(), facecolor=color, edgecolor='black', zorder=1)\n",
    "\n",
    "#Defino los ejes (lon min y max, lat min y max)\n",
    "ax.set_extent([-76, -53, -57, -20])"
   ]
  }
 ],
 "metadata": {
  "kernelspec": {
   "display_name": "Python 3",
   "language": "python",
   "name": "python3"
  },
  "language_info": {
   "codemirror_mode": {
    "name": "ipython",
    "version": 3
   },
   "file_extension": ".py",
   "mimetype": "text/x-python",
   "name": "python",
   "nbconvert_exporter": "python",
   "pygments_lexer": "ipython3",
   "version": "3.9.4"
  }
 },
 "nbformat": 4,
 "nbformat_minor": 2
}
